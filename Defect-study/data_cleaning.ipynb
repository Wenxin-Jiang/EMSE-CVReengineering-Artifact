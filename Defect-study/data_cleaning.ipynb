{
 "cells": [
  {
   "cell_type": "code",
   "execution_count": 103,
   "metadata": {},
   "outputs": [],
   "source": [
    "import os\n",
    "import pandas as pd\n",
    "import numpy as np\n",
    "from sklearn.metrics import cohen_kappa_score\n"
   ]
  },
  {
   "cell_type": "code",
   "execution_count": 104,
   "metadata": {},
   "outputs": [],
   "source": [
    "def changeCase(sheet, case=\"lower\"):\n",
    "    if case == \"lower\":\n",
    "        sheet = sheet.apply(lambda x: x.astype(str).str.lower())\n",
    "    elif case == \"upper\":\n",
    "        sheet = sheet.apply(lambda x: x.astype(str).str.upper())\n",
    "    return sheet"
   ]
  },
  {
   "cell_type": "code",
   "execution_count": 105,
   "metadata": {},
   "outputs": [],
   "source": [
    "pilot1 = pd.DataFrame(pd.read_excel('Cohen\\'s Kappa Calculation.xlsx', sheet_name = 0))\n",
    "pilot2 = pd.DataFrame(pd.read_excel('Cohen\\'s Kappa Calculation.xlsx', sheet_name = 1))\n",
    "\n",
    "pilot_re1 = pd.DataFrame(pd.read_excel('Cohen\\'s Kappa Calculation.xlsx', sheet_name = 2))\n",
    "pilot_re2 = pd.DataFrame(pd.read_excel('Cohen\\'s Kappa Calculation.xlsx', sheet_name = 3))\n",
    "\n",
    "final1 = pd.DataFrame(pd.read_excel('Cohen\\'s Kappa Calculation.xlsx', sheet_name = 4))\n",
    "final2 = pd.DataFrame(pd.read_excel('Cohen\\'s Kappa Calculation.xlsx', sheet_name = 5))"
   ]
  },
  {
   "cell_type": "code",
   "execution_count": null,
   "metadata": {},
   "outputs": [
    {
     "data": {
      "text/plain": [
       "Index(['Issue #', 'Framework', 'same code', 'same data', 'DL Stage', 'Impacts',\n",
       "       'General Code Error Type', 'DL Specific Error Type', 'Manifestation'],\n",
       "      dtype='object')"
      ]
     },
     "execution_count": 98,
     "metadata": {},
     "output_type": "execute_result"
    }
   ],
   "source": [
    "pilot1.keys()"
   ]
  },
  {
   "cell_type": "code",
   "execution_count": null,
   "metadata": {},
   "outputs": [],
   "source": [
    "pilot1 = pilot1.dropna(subset=[\"Issue #\"])\n",
    "pilot2 = pilot2.dropna(subset=[\"Issue #\"])\n",
    "pilot_re1 = pilot_re1.dropna(subset=[\"Issue #\"])\n",
    "pilot_re2 = pilot_re2.dropna(subset=[\"Issue #\"])\n",
    "final1 = final1.dropna(subset=[\"Issue #\"])\n",
    "final2 = final2.dropna(subset=[\"Issue #\"])\n",
    "# pilot1 = pilot1[pilot1[\"Issue #\"].notna()]\n",
    "# pilot2 = pilot2[pilot2[\"Issue #\"].notna()]"
   ]
  },
  {
   "cell_type": "code",
   "execution_count": null,
   "metadata": {},
   "outputs": [],
   "source": [
    "pilot1 = changeCase(pilot1, \"lower\")\n",
    "pilot2 = changeCase(pilot2, \"lower\")\n",
    "\n",
    "pilot_re1 = changeCase(pilot_re1, \"lower\")\n",
    "pilot_re2 = changeCase(pilot_re2, \"lower\")\n",
    "\n",
    "final1 = changeCase(final1, \"lower\")\n",
    "final2 = changeCase(final2, \"lower\")"
   ]
  },
  {
   "cell_type": "code",
   "execution_count": null,
   "metadata": {},
   "outputs": [],
   "source": [
    "pilot1.to_csv('Pilot1.csv')\n",
    "pilot1.to_excel('Pilot1.xlsx')\n",
    "pilot2.to_csv('Pilot2.csv')\n",
    "pilot2.to_excel('Pilot2.xlsx')\n",
    "\n",
    "\n",
    "pilot_re1.to_csv('Pilot_re1.csv')\n",
    "pilot_re1.to_excel('Pilot_re1.xlsx')\n",
    "pilot_re2.to_csv('Pilot_re2.csv')\n",
    "pilot_re2.to_excel('Pilot_re2.xlsx')\n",
    "\n",
    "final1.to_csv('Final1.csv')\n",
    "final1.to_excel('Final1.xlsx')\n",
    "final2.to_csv('Final2.csv')\n",
    "final2.to_excel('Final2.xlsx')"
   ]
  },
  {
   "cell_type": "code",
   "execution_count": null,
   "metadata": {},
   "outputs": [
    {
     "name": "stdout",
     "output_type": "stream",
     "text": [
      "Issue #\n",
      "Framework\n",
      "13\n",
      "same code\n",
      "same data\n",
      "DL Stage\n",
      "Diff issue # 48.0\n",
      "Diff issue # 546.0\n",
      "Diff issue # 47.0\n",
      "Diff issue # 157.0\n",
      "Diff issue # 502.0\n",
      "Diff issue # 58.0\n",
      "11\n",
      "Impacts\n",
      "Diff issue # 354.0\n",
      "Diff issue # 72.0\n",
      "Diff issue # 47.0\n",
      "Diff issue # 45.0\n",
      "Diff issue # 58.0\n",
      "13\n",
      "General Code Error Type\n",
      "Diff issue # 332.0\n",
      "Diff issue # 546.0\n",
      "Diff issue # 480.0\n",
      "Diff issue # 30.0\n",
      "Diff issue # 47.0\n",
      "Diff issue # 45.0\n",
      "Diff issue # 502.0\n",
      "Diff issue # 58.0\n",
      "13\n",
      "DL Specific Error Type\n",
      "Diff issue # 332.0\n",
      "Diff issue # 354.0\n",
      "Diff issue # 72.0\n",
      "Diff issue # 546.0\n",
      "Diff issue # 502.0\n",
      "Diff issue # 58.0\n",
      "8\n",
      "Manifestation\n",
      "Diff issue # 502.0\n",
      "13\n"
     ]
    }
   ],
   "source": [
    "arr1 = []\n",
    "arr2 = []\n",
    "for col in pilot1.keys():\n",
    "    print(col)\n",
    "    cnt = 0\n",
    "    if col == \"Issue #\" or col == \"framework\" or col == \"same code\" or col == \"same data\": continue\n",
    "    # if col == \"Issue #\": continue\n",
    "    for idx, (i, j) in enumerate(zip(pilot1[col], pilot2[col])):\n",
    "        # print(i, j)\n",
    "        if i == \"nan\" or j == \"nan\": continue\n",
    "        cnt += 1\n",
    "        # if i != j: \n",
    "            # print(\"Diff issue #\", pilot1.iloc[idx, 0])\n",
    "        # print(i, j)\n",
    "        arr1.append(i)\n",
    "        arr2.append(j)\n",
    "    print(cnt)\n",
    "    # break"
   ]
  }
 ],
 "metadata": {
  "kernelspec": {
   "display_name": "Python 3.9.12 ('base')",
   "language": "python",
   "name": "python3"
  },
  "language_info": {
   "codemirror_mode": {
    "name": "ipython",
    "version": 3
   },
   "file_extension": ".py",
   "mimetype": "text/x-python",
   "name": "python",
   "nbconvert_exporter": "python",
   "pygments_lexer": "ipython3",
   "version": "3.9.12"
  },
  "orig_nbformat": 4,
  "vscode": {
   "interpreter": {
    "hash": "dd04b1c2a334b2afd74a8bcde3eb63dfe1e49b5880c4d85d57fe7d591a25e765"
   }
  }
 },
 "nbformat": 4,
 "nbformat_minor": 2
}
