{
 "cells": [
  {
   "cell_type": "code",
   "execution_count": 132,
   "metadata": {},
   "outputs": [],
   "source": [
    "import os\n",
    "import pandas as pd\n",
    "import numpy as np\n",
    "from sklearn.metrics import cohen_kappa_score\n"
   ]
  },
  {
   "cell_type": "code",
   "execution_count": 133,
   "metadata": {},
   "outputs": [],
   "source": [
    "pilot1 = pd.DataFrame(pd.read_excel('Pilot1.xlsx', sheet_name = 0))\n",
    "pilot2 = pd.DataFrame(pd.read_excel('Pilot2.xlsx', sheet_name = 0))\n",
    "\n",
    "pilot_re1 = pd.DataFrame(pd.read_excel('Pilot_re1.xlsx', sheet_name = 0))\n",
    "pilot_re2 = pd.DataFrame(pd.read_excel('Pilot_re2.xlsx', sheet_name = 0))\n",
    "\n",
    "final1 = pd.DataFrame(pd.read_excel('Final1.xlsx', sheet_name = 0))\n",
    "final2 = pd.DataFrame(pd.read_excel('Final2.xlsx', sheet_name = 0))"
   ]
  },
  {
   "cell_type": "code",
   "execution_count": null,
   "metadata": {},
   "outputs": [],
   "source": []
  },
  {
   "cell_type": "code",
   "execution_count": 134,
   "metadata": {},
   "outputs": [
    {
     "data": {
      "text/plain": [
       "0.4583505154639176"
      ]
     },
     "execution_count": 134,
     "metadata": {},
     "output_type": "execute_result"
    }
   ],
   "source": [
    "# Pilot\n",
    "arr1 = []\n",
    "arr2 = []\n",
    "for col in pilot1.keys():\n",
    "    # print(col)\n",
    "    cnt = 0\n",
    "    if col == \"Issue #\" or col == \"Framework\"  or col == \"same code\" or col == \"same data\": continue\n",
    "    # if col == \"Issue #\": continue\n",
    "    for idx, (i, j) in enumerate(zip(pilot1[col], pilot2[col])):\n",
    "        # print(i, j)\n",
    "        \n",
    "        if pd.isna(i) or pd.isna(j): continue\n",
    "        cnt += 1 \n",
    "        arr1.append(i)\n",
    "        arr2.append(j)\n",
    "cohen_kappa_score(arr1, arr2)"
   ]
  },
  {
   "cell_type": "code",
   "execution_count": 135,
   "metadata": {},
   "outputs": [
    {
     "data": {
      "text/plain": [
       "0.7940379403794038"
      ]
     },
     "execution_count": 135,
     "metadata": {},
     "output_type": "execute_result"
    }
   ],
   "source": [
    "# Pilot_re\n",
    "arr1 = []\n",
    "arr2 = []\n",
    "for col in pilot_re1.keys():\n",
    "    # print(col)\n",
    "    cnt = 0\n",
    "    if col == \"Issue #\" or col == \"Framework\"  or col == \"same code\" or col == \"same data\": continue\n",
    "    # if col == \"Issue #\": continue\n",
    "    for idx, (i, j) in enumerate(zip(pilot_re1[col], pilot_re2[col])):\n",
    "        # print(i, j)\n",
    "        if pd.isna(i) or pd.isna(j): continue\n",
    "        cnt += 1 \n",
    "        arr1.append(i)\n",
    "        arr2.append(j)\n",
    "cohen_kappa_score(arr1, arr2)"
   ]
  },
  {
   "cell_type": "code",
   "execution_count": 136,
   "metadata": {},
   "outputs": [
    {
     "data": {
      "text/plain": [
       "0.698853231860154"
      ]
     },
     "execution_count": 136,
     "metadata": {},
     "output_type": "execute_result"
    }
   ],
   "source": [
    "# Final\n",
    "arr1 = []\n",
    "arr2 = []\n",
    "for col in final1.keys():\n",
    "    # print(col)\n",
    "    cnt = 0\n",
    "    if col == \"Issue #\" or col == \"Framework\"  or col == \"same code\" or col == \"same data\": continue\n",
    "    # if col == \"Issue #\": continue\n",
    "    for idx, (i, j) in enumerate(zip(final1[col], final2[col])):\n",
    "        if pd.isna(i) or pd.isna(j): continue\n",
    "        cnt += 1 \n",
    "        # if i != j: \n",
    "            # print(final1.iloc[idx, 1], final2.iloc[idx, 1])\n",
    "            # print(i, j)\n",
    "        arr1.append(i)\n",
    "        arr2.append(j)\n",
    "cohen_kappa_score(arr1, arr2)"
   ]
  },
  {
   "cell_type": "code",
   "execution_count": null,
   "metadata": {},
   "outputs": [],
   "source": []
  }
 ],
 "metadata": {
  "kernelspec": {
   "display_name": "Python 3.9.12 ('base')",
   "language": "python",
   "name": "python3"
  },
  "language_info": {
   "codemirror_mode": {
    "name": "ipython",
    "version": 3
   },
   "file_extension": ".py",
   "mimetype": "text/x-python",
   "name": "python",
   "nbconvert_exporter": "python",
   "pygments_lexer": "ipython3",
   "version": "3.9.12"
  },
  "orig_nbformat": 4,
  "vscode": {
   "interpreter": {
    "hash": "dd04b1c2a334b2afd74a8bcde3eb63dfe1e49b5880c4d85d57fe7d591a25e765"
   }
  }
 },
 "nbformat": 4,
 "nbformat_minor": 2
}
